{
 "cells": [
  {
   "cell_type": "markdown",
   "id": "4d78e12b",
   "metadata": {},
   "source": [
    "## Supervised Learning - Univariate Linear Regression"
   ]
  },
  {
   "cell_type": "code",
   "execution_count": null,
   "id": "5e5a5e57",
   "metadata": {},
   "outputs": [],
   "source": [
    "# Import Libraries\n",
    "\n",
    "import numpy as np\n",
    "import matplotlib.pyplot as plt\n",
    "\n",
    "from ipywidgets import interact, FloatSlider\n",
    "from IPython.display import display, clear_output"
   ]
  },
  {
   "cell_type": "code",
   "execution_count": 21,
   "id": "1a8fe93e",
   "metadata": {},
   "outputs": [],
   "source": [
    "# Generate synthetic data\n",
    "\n",
    "np.random.seed(0)\n",
    "\n",
    "X = np.linspace(0, 10, 100)\n",
    "\n",
    "Y = 2 * X + 1 + np.random.normal(0, 2, 100)"
   ]
  },
  {
   "cell_type": "code",
   "execution_count": 22,
   "id": "980a456b",
   "metadata": {},
   "outputs": [],
   "source": [
    "# Create a Plot Function for Interactive Visualization\n",
    "\n",
    "def plot_linear_regression(slope=2.0, intercept=1.0):\n",
    "    \n",
    "    predicted_Y = slope * X + intercept\n",
    "\n",
    "    loss = np.mean((predicted_Y - Y) ** 2) # Calculate Mean Squared Error (Loss)\n",
    "\n",
    "    # Create the plot\n",
    "\n",
    "    plt.figure(figsize=(10, 5))\n",
    "\n",
    "    plt.scatter(X, Y, label='Data Points')\n",
    "\n",
    "    plt.plot(X, predicted_Y, color='red', label='Linear Regression Line')\n",
    "\n",
    "    plt.xlabel('X')\n",
    "\n",
    "    plt.ylabel('Y / Predicted Y')\n",
    "\n",
    "    plt.title (f'Linear Regression (Loss: {loss:.2f}) ')\n",
    "\n",
    "    plt.legend ()\n",
    "\n",
    "    plt.grid (True)\n",
    "\n",
    "    plt.show ()"
   ]
  },
  {
   "cell_type": "code",
   "execution_count": 24,
   "id": "761cf9f4",
   "metadata": {},
   "outputs": [
    {
     "data": {
      "application/vnd.jupyter.widget-view+json": {
       "model_id": "c5589784cedd4af28bc325a698e16a6f",
       "version_major": 2,
       "version_minor": 0
      },
      "text/plain": [
       "interactive(children=(FloatSlider(value=1.8, description='Slope', max=5.0, min=-5.0), FloatSlider(value=2.4, d…"
      ]
     },
     "metadata": {},
     "output_type": "display_data"
    }
   ],
   "source": [
    "# Create sliders\n",
    "\n",
    "slope_slider = FloatSlider(value=1.8, min =- 5.0, max=5.0, step=0.1, description='Slope')\n",
    "\n",
    "intercept_slider = FloatSlider(value=2.4, min =- 5.0, max=5.0, step=0.1, description='Intercept')\n",
    "\n",
    "# Create an interactive widget\n",
    "\n",
    "interact_plot = interact(plot_linear_regression, slope=slope_slider, intercept=intercept_slider)\n"
   ]
  }
 ],
 "metadata": {
  "kernelspec": {
   "display_name": "oracle-association-course-py3.13",
   "language": "python",
   "name": "python3"
  },
  "language_info": {
   "codemirror_mode": {
    "name": "ipython",
    "version": 3
   },
   "file_extension": ".py",
   "mimetype": "text/x-python",
   "name": "python",
   "nbconvert_exporter": "python",
   "pygments_lexer": "ipython3",
   "version": "3.13.7"
  }
 },
 "nbformat": 4,
 "nbformat_minor": 5
}
