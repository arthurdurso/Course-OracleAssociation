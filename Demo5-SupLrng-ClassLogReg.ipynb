{
 "cells": [
  {
   "cell_type": "markdown",
   "id": "4d78e12b",
   "metadata": {},
   "source": [
    "## Supervised Learning - Binary Classification using Logistic Regression"
   ]
  },
  {
   "cell_type": "code",
   "execution_count": 2,
   "id": "5e5a5e57",
   "metadata": {},
   "outputs": [],
   "source": [
    "# Import Libraries\n",
    "\n",
    "import numpy as np\n",
    "import pandas as pd\n",
    "import matplotlib.pyplot as plt\n",
    "\n",
    "from ipywidgets import interact, FloatSlider\n",
    "from IPython.display import display, clear_output"
   ]
  },
  {
   "cell_type": "code",
   "execution_count": 3,
   "id": "1a8fe93e",
   "metadata": {},
   "outputs": [],
   "source": [
    "# Generate synthetic data\n",
    "\n",
    "np.random.seed(0)\n",
    "\n",
    "X = np.linspace(-5, 5, 100)"
   ]
  },
  {
   "cell_type": "code",
   "execution_count": 4,
   "id": "85a93884",
   "metadata": {},
   "outputs": [],
   "source": [
    "# Create a function for interactive visualization\n",
    "\n",
    "def plot_logistic_regression(slope=2.0, intercept =- 1.0, threshold=0.5):\n",
    "\n",
    "    new_linear_combination = slope * X +intercept\n",
    "\n",
    "    new_probability = 1 / (1 + np.exp(-new_linear_combination))\n",
    "\n",
    "    predicted_labels = (new_probability > threshold).astype(int)\n",
    "\n",
    "    # Create subplots\n",
    "\n",
    "    fig, (ax1, ax2, ax3) = plt.subplots(1, 3, figsize=(18,5))\n",
    "\n",
    "    # Plot the linear combination\n",
    "\n",
    "    ax1.plot(X, new_linear_combination, label='Linear Combination')\n",
    "\n",
    "    ax1.set_xlabel('Feature Value (X)')\n",
    "\n",
    "    ax1.set_ylabel('Linear Combination (y)')\n",
    "\n",
    "    ax1.legend()\n",
    "\n",
    "    # Plot the logistic function output as a subplot\n",
    "\n",
    "    ax2.plot(X, new_probability, label='Logistic Function')\n",
    "\n",
    "    ax2.set_xlabel('Feature Value (X)')\n",
    "\n",
    "    ax2.set_ylabel('Probability')\n",
    "\n",
    "    ax2.legend()\n",
    "\n",
    "    # Plot the predicted labels\n",
    "\n",
    "    ax3.scatter(X, predicted_labels, label='Predicted Labels')\n",
    "\n",
    "    ax3.set_xlabel('Feature Value (X) ')\n",
    "\n",
    "    ax3.set_ylabel('Predicted Label')\n",
    "\n",
    "    ax3.legend()\n",
    "\n",
    "    plt.show()"
   ]
  },
  {
   "cell_type": "code",
   "execution_count": 11,
   "id": "bbe806bf",
   "metadata": {},
   "outputs": [
    {
     "data": {
      "application/vnd.jupyter.widget-view+json": {
       "model_id": "131d13ee2eba41c49b6bbfaf02be04e4",
       "version_major": 2,
       "version_minor": 0
      },
      "text/plain": [
       "interactive(children=(FloatSlider(value=2.0, description='Slope', max=5.0, min=-5.0), FloatSlider(value=-1.0, …"
      ]
     },
     "metadata": {},
     "output_type": "display_data"
    }
   ],
   "source": [
    "# Create sliders\n",
    "\n",
    "slope_slider = FloatSlider(value=2.0, min =- 5.0, max=5.0, step=0.1, description='Slope')\n",
    "\n",
    "intercept_slider = FloatSlider(value =- 1.0, min =- 5.0, max=5.0, step=0.1, description='Intercept')\n",
    "\n",
    "threshold_slider = FloatSlider(value=0.5, min=0.0, max=1.0, step=0.01, description='Threshold')\n",
    "\n",
    "# Create an interactive widget\n",
    "\n",
    "interact_plot = interact(plot_logistic_regression, slope=slope_slider, intercept=intercept_slider, threshold=threshold_slider)"
   ]
  },
  {
   "cell_type": "code",
   "execution_count": null,
   "id": "af502f25",
   "metadata": {},
   "outputs": [],
   "source": []
  }
 ],
 "metadata": {
  "kernelspec": {
   "display_name": "oracle-association-course-py3.13",
   "language": "python",
   "name": "python3"
  },
  "language_info": {
   "codemirror_mode": {
    "name": "ipython",
    "version": 3
   },
   "file_extension": ".py",
   "mimetype": "text/x-python",
   "name": "python",
   "nbconvert_exporter": "python",
   "pygments_lexer": "ipython3",
   "version": "3.13.7"
  }
 },
 "nbformat": 4,
 "nbformat_minor": 5
}
