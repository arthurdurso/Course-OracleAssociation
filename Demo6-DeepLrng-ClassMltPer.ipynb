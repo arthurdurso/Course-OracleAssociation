{
 "cells": [
  {
   "cell_type": "markdown",
   "id": "4d78e12b",
   "metadata": {},
   "source": [
    "## Deep Learning - Classification with Multilayer Perceptron"
   ]
  },
  {
   "cell_type": "code",
   "execution_count": 10,
   "id": "5e5a5e57",
   "metadata": {},
   "outputs": [],
   "source": [
    "# Import Libraries\n",
    "\n",
    "import numpy as np\n",
    "import matplotlib.pyplot as plt\n",
    "import ipywidgets as widgets\n",
    "\n",
    "from sklearn.datasets import make_circles\n",
    "from sklearn.neural_network import MLPClassifier\n",
    "from IPython.display import display\n",
    "from ipywidgets import interactive"
   ]
  },
  {
   "cell_type": "code",
   "execution_count": 11,
   "id": "1a8fe93e",
   "metadata": {},
   "outputs": [],
   "source": [
    "# Function to update and display the plot\n",
    "\n",
    "def update_plot(hidden_layer_size):\n",
    "\n",
    "    # Generate synthetic data (circle)\n",
    "\n",
    "    X, y = make_circles(n_samples=300, noise=0.1, factor=0.5,random_state=0)\n",
    "\n",
    "    # Create a multi-layer perceptron (MLP) classifier\n",
    "\n",
    "    clf = MLPClassifier(hidden_layer_sizes=(hidden_layer_size,),activation='relu', max_iter=3000, random_state=1)\n",
    "\n",
    "    # Fit the classifier to the data\n",
    "    clf.fit (X, y)\n",
    "\n",
    "    # Create a grid of points for visualization\n",
    "\n",
    "    x_vals = np.linspace(X[ :, 0] .min () - 0.1, X[ :, 0].max () + 0.1, 100)\n",
    "\n",
    "    y_vals = np.linspace(X[ :, 1].min() - 0.1, X[:, 1].max() + 0.1, 100)\n",
    "\n",
    "    X_plane, Y_plane = np.meshgrid(x_vals, y_vals)\n",
    "\n",
    "    grid_points = np.column_stack((X_plane.ravel(), Y_plane.ravel()))\n",
    "\n",
    "    # Predict class labels for the grid points\n",
    "\n",
    "    Z = clf.predict(grid_points)\n",
    "\n",
    "    Z = Z.reshape(X_plane.shape)\n",
    "\n",
    "    # Clear previous plot\n",
    "\n",
    "    plt.clf()\n",
    "\n",
    "    # Plot the decision boundary\n",
    "\n",
    "    plt.contourf(X_plane, Y_plane, Z, levels=[-0.5, 0.5, 1.5], cmap=plt.cm.RdYlGn, alpha=0.6)\n",
    "\n",
    "    plt.scatter(X[:, 0], X[:, 1], c=y, cmap=plt.cm.RdYlGn)\n",
    "\n",
    "    plt.xlabel('Feature 1')\n",
    "\n",
    "    plt.ylabel('Feature 2')\n",
    "\n",
    "    plt.title(f'Decision Boundary Visualization for Circle Data (Hidden Layer Size={hidden_layer_size})')\n",
    "\n",
    "    plt.show()"
   ]
  },
  {
   "cell_type": "code",
   "execution_count": 12,
   "id": "18486575",
   "metadata": {},
   "outputs": [
    {
     "data": {
      "application/vnd.jupyter.widget-view+json": {
       "model_id": "4a55c03a93b0439f9b525a271d70fa0b",
       "version_major": 2,
       "version_minor": 0
      },
      "text/plain": [
       "interactive(children=(IntSlider(value=2, description='Hidden Layer Size', max=10, min=1), Output()), _dom_clas…"
      ]
     },
     "metadata": {},
     "output_type": "display_data"
    }
   ],
   "source": [
    "# Create a slider for hidden layer size\n",
    "\n",
    "hidden_layer_size_slider = widgets.IntSlider(value=2, min=1, max=10, step=1, description='Hidden Layer Size')\n",
    "\n",
    "# Create a submit button\n",
    "\n",
    "submit_button = widgets.Button(description='Submit')\n",
    "\n",
    "# Define a callback function for the submit button\n",
    "\n",
    "def submit_button_callback (button):\n",
    "\n",
    "    update_plot(hidden_layer_size_slider.value)\n",
    "\n",
    "#submit_button.on_click(submit_button_callback)\n",
    "\n",
    "# Create an interactive widget\n",
    "\n",
    "interactive_plot = interactive (update_plot, hidden_layer_size=hidden_layer_size_slider)\n",
    "\n",
    "# Display the widgets\n",
    "\n",
    "display(interactive_plot)"
   ]
  }
 ],
 "metadata": {
  "kernelspec": {
   "display_name": "oracle-association-course-py3.13",
   "language": "python",
   "name": "python3"
  },
  "language_info": {
   "codemirror_mode": {
    "name": "ipython",
    "version": 3
   },
   "file_extension": ".py",
   "mimetype": "text/x-python",
   "name": "python",
   "nbconvert_exporter": "python",
   "pygments_lexer": "ipython3",
   "version": "3.13.7"
  }
 },
 "nbformat": 4,
 "nbformat_minor": 5
}
