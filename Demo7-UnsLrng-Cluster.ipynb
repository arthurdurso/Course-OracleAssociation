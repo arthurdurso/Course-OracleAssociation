{
 "cells": [
  {
   "cell_type": "markdown",
   "id": "4d78e12b",
   "metadata": {},
   "source": [
    "## Unsupervised Learning - Clustering"
   ]
  },
  {
   "cell_type": "code",
   "execution_count": 12,
   "id": "5e5a5e57",
   "metadata": {},
   "outputs": [],
   "source": [
    "# Import Libraries\n",
    "\n",
    "import numpy as np\n",
    "import pandas as pd\n",
    "import matplotlib.pyplot as plt\n",
    "\n",
    "from sklearn.cluster import KMeans\n",
    "from sklearn import datasets\n",
    "from IPython.display import display, clear_output\n",
    "from ipywidgets import interact, IntSlider"
   ]
  },
  {
   "cell_type": "code",
   "execution_count": 13,
   "id": "589dc6fc",
   "metadata": {},
   "outputs": [],
   "source": [
    "#Loading the Iris Dataset\n",
    "\n",
    "iris = datasets.load_iris()\n",
    "X = iris.data[:, :2]  # We only take the first two features for easy"
   ]
  },
  {
   "cell_type": "code",
   "execution_count": 14,
   "id": "429e8045",
   "metadata": {},
   "outputs": [],
   "source": [
    "# Create a function for interactive clustering visualization\n",
    "\n",
    "def plot_kmeans_clusters(num_clusters=2):\n",
    "\n",
    "    kmeans = KMeans(n_clusters=num_clusters, random_state=0)\n",
    "\n",
    "    labels = kmeans.fit_predict(X)\n",
    "\n",
    "    # Create a scatter plot with different colors for each cluster\n",
    "\n",
    "    plt.figure(figsize=(10, 6))\n",
    "\n",
    "    for i in range (num_clusters):\n",
    "\n",
    "        plt.scatter(X[labels == i, 0], X[labels == i, 1], label=f'Cluster {i + 1}')\n",
    "\n",
    "    plt.scatter(kmeans.cluster_centers_[:, 0], kmeans.cluster_centers_[:, 1], s=200, c='black', marker='X', label='Centroids')\n",
    "\n",
    "    plt.xlabel('Feature 1')\n",
    "\n",
    "    plt.ylabel('Feature 2')\n",
    "\n",
    "    plt.title(f'K-Means Clustering (Number of Clusters: {num_clusters} )')\n",
    "\n",
    "    plt.legend()\n",
    "\n",
    "    plt.grid(True)\n",
    "\n",
    "    plt.show()"
   ]
  },
  {
   "cell_type": "code",
   "execution_count": 15,
   "id": "3abb2ca5",
   "metadata": {},
   "outputs": [
    {
     "data": {
      "application/vnd.jupyter.widget-view+json": {
       "model_id": "3d85246ed4aa4f9d8f82140424c81d0b",
       "version_major": 2,
       "version_minor": 0
      },
      "text/plain": [
       "interactive(children=(IntSlider(value=4, description='Number of Clusters', max=5, min=2), Output()), _dom_clas…"
      ]
     },
     "metadata": {},
     "output_type": "display_data"
    }
   ],
   "source": [
    "# Create a slider for adjusting the number of clusters\n",
    "\n",
    "num_clusters_slider = IntSlider (value=4, min=2, max=5, description='Number of Clusters')\n",
    "\n",
    "# Create an interactive widget\n",
    "\n",
    "interact_plot = interact(plot_kmeans_clusters, num_clusters=num_clusters_slider)"
   ]
  }
 ],
 "metadata": {
  "kernelspec": {
   "display_name": "oracle-association-course-py3.13",
   "language": "python",
   "name": "python3"
  },
  "language_info": {
   "codemirror_mode": {
    "name": "ipython",
    "version": 3
   },
   "file_extension": ".py",
   "mimetype": "text/x-python",
   "name": "python",
   "nbconvert_exporter": "python",
   "pygments_lexer": "ipython3",
   "version": "3.13.7"
  }
 },
 "nbformat": 4,
 "nbformat_minor": 5
}
