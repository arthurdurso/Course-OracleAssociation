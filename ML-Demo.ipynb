{
 "cells": [
  {
   "cell_type": "markdown",
   "id": "040d6302",
   "metadata": {},
   "source": [
    "## Machine Learning Process  \n",
    "\n",
    "- Loading Data;\n",
    "- Preprocessing;\n",
    "- Training a Model;\n",
    "- Evaluating The Model;\n",
    "- Making Predictions."
   ]
  },
  {
   "cell_type": "code",
   "execution_count": 1,
   "id": "06e5b451",
   "metadata": {},
   "outputs": [],
   "source": [
    "#Import Necessary Libraries\n",
    "import pandas as pd\n",
    "import sklearn.linear_model as lm"
   ]
  }
 ],
 "metadata": {
  "kernelspec": {
   "display_name": "oracle-association-course-py3.13",
   "language": "python",
   "name": "python3"
  },
  "language_info": {
   "codemirror_mode": {
    "name": "ipython",
    "version": 3
   },
   "file_extension": ".py",
   "mimetype": "text/x-python",
   "name": "python",
   "nbconvert_exporter": "python",
   "pygments_lexer": "ipython3",
   "version": "3.13.7"
  }
 },
 "nbformat": 4,
 "nbformat_minor": 5
}
